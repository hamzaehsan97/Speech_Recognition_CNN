{
 "cells": [
  {
   "cell_type": "code",
   "execution_count": 12,
   "metadata": {},
   "outputs": [],
   "source": [
    "from preprocess import *\n",
    "import keras\n",
    "from keras.models import Sequential\n",
    "from keras.layers import Dense, Dropout, Flatten, Conv2D, MaxPooling2D, LSTM\n",
    "from keras.utils import to_categorical\n",
    "import wandb\n",
    "from wandb.keras import WandbCallback\n",
    "import matplotlib.pyplot as plt"
   ]
  },
  {
   "cell_type": "code",
   "execution_count": 13,
   "metadata": {},
   "outputs": [
    {
     "name": "stderr",
     "output_type": "stream",
     "text": [
      "wandb: ERROR To use wandb on Windows, you need to run the command \"wandb run python <your_train_script>.py\"\n",
      "Saving vectors of label - 'bed': 100%|██████████| 1713/1713 [00:10<00:00, 164.76it/s]\n",
      "Saving vectors of label - 'cat': 100%|██████████| 1733/1733 [00:10<00:00, 164.29it/s]\n",
      "Saving vectors of label - 'happy': 100%|██████████| 1742/1742 [00:09<00:00, 174.62it/s]\n"
     ]
    }
   ],
   "source": [
    "wandb.init()\n",
    "config = wandb.config\n",
    "\n",
    "config.max_len = 11\n",
    "config.buckets = 20\n",
    "\n",
    "# Save data to array file first\n",
    "save_data_to_array(max_len=config.max_len, n_mfcc=config.buckets)\n",
    "\n",
    "labels=[\"bed\", \"happy\", \"cat\"]"
   ]
  },
  {
   "cell_type": "code",
   "execution_count": 14,
   "metadata": {},
   "outputs": [],
   "source": [
    "# # Loading train set and test set\n",
    "X_train, X_test, y_train, y_test = get_train_test()"
   ]
  },
  {
   "cell_type": "code",
   "execution_count": 15,
   "metadata": {},
   "outputs": [],
   "source": [
    "# # Feature dimension\n",
    "channels = 1\n",
    "config.epochs = 50\n",
    "config.batch_size = 100\n",
    "\n",
    "num_classes = 3\n",
    "\n",
    "X_train = X_train.reshape(X_train.shape[0], config.buckets, config.max_len, channels)\n",
    "X_test = X_test.reshape(X_test.shape[0], config.buckets, config.max_len, channels)"
   ]
  },
  {
   "cell_type": "code",
   "execution_count": 16,
   "metadata": {},
   "outputs": [
    {
     "name": "stdout",
     "output_type": "stream",
     "text": [
      "0.0\n"
     ]
    },
    {
     "data": {
      "image/png": "[encoded data removed]",
      "text/plain": [
       "<Figure size 432x288 with 1 Axes>"
      ]
     },
     "metadata": {
      "needs_background": "light"
     },
     "output_type": "display_data"
    }
   ],
   "source": [
    "plt.imshow(X_train[100, :, :, 0])\n",
    "print(y_train[100])"
   ]
  },
  {
   "cell_type": "code",
   "execution_count": 17,
   "metadata": {},
   "outputs": [],
   "source": [
    "y_train_hot = to_categorical(y_train)\n",
    "y_test_hot = to_categorical(y_test)"
   ]
  },
  {
   "cell_type": "code",
   "execution_count": 18,
   "metadata": {},
   "outputs": [],
   "source": [
    "\n",
    "X_train = X_train.reshape(X_train.shape[0], config.buckets, config.max_len)\n",
    "X_test = X_test.reshape(X_test.shape[0], config.buckets, config.max_len)\n",
    "\n",
    "\n",
    "model = Sequential()\n",
    "model.add(Flatten(input_shape=(config.buckets, config.max_len)))\n",
    "model.add(Dense(num_classes, activation='softmax'))\n",
    "model.compile(loss=\"categorical_crossentropy\",\n",
    "                  optimizer=\"adam\",\n",
    "                  metrics=['accuracy'])\n",
    "\n"
   ]
  },
  {
   "cell_type": "code",
   "execution_count": 8,
   "metadata": {},
   "outputs": [
    {
     "name": "stderr",
     "output_type": "stream",
     "text": [
      "wandb: ERROR To use wandb on Windows, you need to run the command \"wandb run python <your_train_script>.py\"\n",
      "wandb: ERROR wandb.init hasn't been called, can't configure run\n",
      "W0724 09:29:22.663063  6468 deprecation.py:323] From C:\\Users\\HamzaEhsan\\Anaconda3\\lib\\site-packages\\tensorflow\\python\\ops\\math_grad.py:1250: add_dispatch_support.<locals>.wrapper (from tensorflow.python.ops.array_ops) is deprecated and will be removed in a future version.\n",
      "Instructions for updating:\n",
      "Use tf.where in 2.0, which has the same broadcast rule as np.where\n",
      "W0724 09:29:22.715882  6468 deprecation_wrapper.py:119] From C:\\Users\\HamzaEhsan\\Anaconda3\\lib\\site-packages\\keras\\backend\\tensorflow_backend.py:986: The name tf.assign_add is deprecated. Please use tf.compat.v1.assign_add instead.\n",
      "\n"
     ]
    },
    {
     "name": "stdout",
     "output_type": "stream",
     "text": [
      "Train on 3112 samples, validate on 2076 samples\n",
      "Epoch 1/50\n",
      "3112/3112 [==============================] - 0s 125us/step - loss: 9.6897 - acc: 0.3621 - val_loss: 8.0923 - val_acc: 0.4345\n",
      "Epoch 2/50\n",
      "3112/3112 [==============================] - 0s 47us/step - loss: 6.7220 - acc: 0.5164 - val_loss: 5.2612 - val_acc: 0.6069\n",
      "Epoch 3/50\n",
      "3112/3112 [==============================] - 0s 42us/step - loss: 4.6384 - acc: 0.6475 - val_loss: 3.9927 - val_acc: 0.6985\n",
      "Epoch 4/50\n",
      "3112/3112 [==============================] - 0s 44us/step - loss: 3.5671 - acc: 0.7211 - val_loss: 3.4642 - val_acc: 0.7327\n",
      "Epoch 5/50\n",
      "3112/3112 [==============================] - 0s 47us/step - loss: 3.1453 - acc: 0.7471 - val_loss: 3.2397 - val_acc: 0.7476\n",
      "Epoch 6/50\n",
      "3112/3112 [==============================] - 0s 46us/step - loss: 2.8758 - acc: 0.7715 - val_loss: 3.0255 - val_acc: 0.7577\n",
      "Epoch 7/50\n",
      "3112/3112 [==============================] - 0s 41us/step - loss: 2.6954 - acc: 0.7870 - val_loss: 3.0361 - val_acc: 0.7616\n",
      "Epoch 8/50\n",
      "3112/3112 [==============================] - 0s 54us/step - loss: 2.5506 - acc: 0.7924 - val_loss: 2.7740 - val_acc: 0.7726\n",
      "Epoch 9/50\n",
      "3112/3112 [==============================] - 0s 47us/step - loss: 2.4854 - acc: 0.7950 - val_loss: 2.6749 - val_acc: 0.7789\n",
      "Epoch 10/50\n",
      "3112/3112 [==============================] - 0s 59us/step - loss: 2.3801 - acc: 0.8001 - val_loss: 2.5853 - val_acc: 0.7871\n",
      "Epoch 11/50\n",
      "3112/3112 [==============================] - 0s 129us/step - loss: 2.2975 - acc: 0.8117 - val_loss: 2.5498 - val_acc: 0.7866\n",
      "Epoch 12/50\n",
      "3112/3112 [==============================] - 0s 50us/step - loss: 2.2456 - acc: 0.8114 - val_loss: 2.5327 - val_acc: 0.7958\n",
      "Epoch 13/50\n",
      "3112/3112 [==============================] - 0s 44us/step - loss: 2.2264 - acc: 0.8130 - val_loss: 2.6113 - val_acc: 0.7924\n",
      "Epoch 14/50\n",
      "3112/3112 [==============================] - 0s 49us/step - loss: 2.0285 - acc: 0.8252 - val_loss: 2.5026 - val_acc: 0.7895\n",
      "Epoch 15/50\n",
      "3112/3112 [==============================] - 0s 47us/step - loss: 2.0169 - acc: 0.8252 - val_loss: 2.5226 - val_acc: 0.7929\n",
      "Epoch 16/50\n",
      "3112/3112 [==============================] - 0s 41us/step - loss: 2.0076 - acc: 0.8281 - val_loss: 2.5879 - val_acc: 0.7890\n",
      "Epoch 17/50\n",
      "3112/3112 [==============================] - 0s 62us/step - loss: 1.9397 - acc: 0.8319 - val_loss: 2.5753 - val_acc: 0.7929\n",
      "Epoch 18/50\n",
      "3112/3112 [==============================] - 0s 46us/step - loss: 1.9325 - acc: 0.8313 - val_loss: 2.7895 - val_acc: 0.7736\n",
      "Epoch 19/50\n",
      "3112/3112 [==============================] - 0s 42us/step - loss: 1.9335 - acc: 0.8371 - val_loss: 2.5337 - val_acc: 0.7914\n",
      "Epoch 20/50\n",
      "3112/3112 [==============================] - 0s 44us/step - loss: 1.8096 - acc: 0.8403 - val_loss: 2.4572 - val_acc: 0.7962\n",
      "Epoch 21/50\n",
      "3112/3112 [==============================] - 0s 52us/step - loss: 1.7913 - acc: 0.8416 - val_loss: 2.4344 - val_acc: 0.7929\n",
      "Epoch 22/50\n",
      "3112/3112 [==============================] - 0s 59us/step - loss: 1.9178 - acc: 0.8319 - val_loss: 2.5345 - val_acc: 0.7895\n",
      "Epoch 23/50\n",
      "3112/3112 [==============================] - 0s 109us/step - loss: 1.7629 - acc: 0.8451 - val_loss: 2.4983 - val_acc: 0.7905\n",
      "Epoch 24/50\n",
      "3112/3112 [==============================] - 0s 59us/step - loss: 1.7535 - acc: 0.8429 - val_loss: 2.4060 - val_acc: 0.7962\n",
      "Epoch 25/50\n",
      "3112/3112 [==============================] - 0s 55us/step - loss: 1.7400 - acc: 0.8464 - val_loss: 2.4224 - val_acc: 0.7895\n",
      "Epoch 26/50\n",
      "3112/3112 [==============================] - 0s 38us/step - loss: 1.7200 - acc: 0.8451 - val_loss: 2.4085 - val_acc: 0.7953\n",
      "Epoch 27/50\n",
      "3112/3112 [==============================] - 0s 49us/step - loss: 1.7545 - acc: 0.8432 - val_loss: 2.3529 - val_acc: 0.8006\n",
      "Epoch 28/50\n",
      "3112/3112 [==============================] - 0s 47us/step - loss: 1.6936 - acc: 0.8544 - val_loss: 2.3769 - val_acc: 0.8011\n",
      "Epoch 29/50\n",
      "3112/3112 [==============================] - 0s 52us/step - loss: 1.7179 - acc: 0.8419 - val_loss: 2.5955 - val_acc: 0.7866\n",
      "Epoch 30/50\n",
      "3112/3112 [==============================] - 0s 48us/step - loss: 1.7090 - acc: 0.8445 - val_loss: 2.5412 - val_acc: 0.7871\n",
      "Epoch 31/50\n",
      "3112/3112 [==============================] - 0s 54us/step - loss: 1.7211 - acc: 0.8419 - val_loss: 2.5755 - val_acc: 0.7828\n",
      "Epoch 32/50\n",
      "3112/3112 [==============================] - 0s 55us/step - loss: 1.7190 - acc: 0.8458 - val_loss: 2.3636 - val_acc: 0.7991\n",
      "Epoch 33/50\n",
      "3112/3112 [==============================] - 0s 74us/step - loss: 1.6298 - acc: 0.8493 - val_loss: 2.4335 - val_acc: 0.7909\n",
      "Epoch 34/50\n",
      "3112/3112 [==============================] - 0s 42us/step - loss: 1.6773 - acc: 0.8519 - val_loss: 2.4113 - val_acc: 0.7909\n",
      "Epoch 35/50\n",
      "3112/3112 [==============================] - 0s 56us/step - loss: 1.5791 - acc: 0.8567 - val_loss: 2.3381 - val_acc: 0.7958\n",
      "Epoch 36/50\n",
      "3112/3112 [==============================] - 0s 50us/step - loss: 1.5789 - acc: 0.8548 - val_loss: 2.3962 - val_acc: 0.7972\n",
      "Epoch 37/50\n",
      "3112/3112 [==============================] - 0s 49us/step - loss: 1.6207 - acc: 0.8429 - val_loss: 2.2991 - val_acc: 0.7929\n",
      "Epoch 38/50\n",
      "3112/3112 [==============================] - 0s 59us/step - loss: 1.5856 - acc: 0.8528 - val_loss: 2.6308 - val_acc: 0.7755\n",
      "Epoch 39/50\n",
      "3112/3112 [==============================] - 0s 52us/step - loss: 1.6122 - acc: 0.8480 - val_loss: 2.3056 - val_acc: 0.7982\n",
      "Epoch 40/50\n",
      "3112/3112 [==============================] - 0s 52us/step - loss: 1.5976 - acc: 0.8483 - val_loss: 2.3292 - val_acc: 0.7943\n",
      "Epoch 41/50\n",
      "3112/3112 [==============================] - 0s 57us/step - loss: 1.5585 - acc: 0.8525 - val_loss: 2.3541 - val_acc: 0.7962\n",
      "Epoch 42/50\n",
      "3112/3112 [==============================] - 0s 89us/step - loss: 1.5501 - acc: 0.8503 - val_loss: 2.3297 - val_acc: 0.7972\n",
      "Epoch 43/50\n",
      "3112/3112 [==============================] - 0s 56us/step - loss: 1.4895 - acc: 0.8573 - val_loss: 2.3312 - val_acc: 0.7953\n",
      "Epoch 44/50\n",
      "3112/3112 [==============================] - 0s 71us/step - loss: 1.5011 - acc: 0.8535 - val_loss: 2.3213 - val_acc: 0.7943\n",
      "Epoch 45/50\n",
      "3112/3112 [==============================] - 0s 49us/step - loss: 1.4802 - acc: 0.8609 - val_loss: 2.3837 - val_acc: 0.7852\n",
      "Epoch 46/50\n",
      "3112/3112 [==============================] - 0s 74us/step - loss: 1.4662 - acc: 0.8548 - val_loss: 2.4022 - val_acc: 0.7808\n",
      "Epoch 47/50\n",
      "3112/3112 [==============================] - 0s 52us/step - loss: 1.4658 - acc: 0.8519 - val_loss: 2.3073 - val_acc: 0.7924\n",
      "Epoch 48/50\n",
      "3112/3112 [==============================] - 0s 48us/step - loss: 1.5023 - acc: 0.8480 - val_loss: 2.4118 - val_acc: 0.7856\n",
      "Epoch 49/50\n",
      "3112/3112 [==============================] - 0s 49us/step - loss: 1.4626 - acc: 0.8554 - val_loss: 2.3263 - val_acc: 0.7929\n",
      "Epoch 50/50\n",
      "3112/3112 [==============================] - 0s 46us/step - loss: 1.4750 - acc: 0.8522 - val_loss: 2.2611 - val_acc: 0.7962\n"
     ]
    },
    {
     "data": {
      "text/plain": [
       "<keras.callbacks.History at 0x25512a8d588>"
      ]
     },
     "execution_count": 8,
     "metadata": {},
     "output_type": "execute_result"
    }
   ],
   "source": [
    "wandb.init()\n",
    "model.fit(X_train, y_train_hot, epochs=config.epochs, validation_data=(X_test, y_test_hot), callbacks=[WandbCallback(data_type=\"image\", labels=labels)])"
   ]
  },
  {
   "cell_type": "code",
   "execution_count": 19,
   "metadata": {},
   "outputs": [
    {
     "ename": "ValueError",
     "evalue": "Input 0 is incompatible with layer lstm_2: expected ndim=3, found ndim=4",
     "output_type": "error",
     "traceback": [
      "\u001b[1;31m---------------------------------------------------------------------------\u001b[0m",
      "\u001b[1;31mValueError\u001b[0m                                Traceback (most recent call last)",
      "\u001b[1;32m<ipython-input-19-c034021d5149>\u001b[0m in \u001b[0;36m<module>\u001b[1;34m\u001b[0m\n\u001b[0;32m      2\u001b[0m \u001b[1;31m# build model\u001b[0m\u001b[1;33m\u001b[0m\u001b[1;33m\u001b[0m\u001b[1;33m\u001b[0m\u001b[0m\n\u001b[0;32m      3\u001b[0m \u001b[0mmodel\u001b[0m \u001b[1;33m=\u001b[0m \u001b[0mSequential\u001b[0m\u001b[1;33m(\u001b[0m\u001b[1;33m)\u001b[0m\u001b[1;33m\u001b[0m\u001b[1;33m\u001b[0m\u001b[0m\n\u001b[1;32m----> 4\u001b[1;33m \u001b[0mmodel\u001b[0m\u001b[1;33m.\u001b[0m\u001b[0madd\u001b[0m\u001b[1;33m(\u001b[0m\u001b[0mLSTM\u001b[0m\u001b[1;33m(\u001b[0m\u001b[1;36m16\u001b[0m\u001b[1;33m,\u001b[0m \u001b[0minput_shape\u001b[0m\u001b[1;33m=\u001b[0m\u001b[1;33m(\u001b[0m\u001b[0mconfig\u001b[0m\u001b[1;33m.\u001b[0m\u001b[0mbuckets\u001b[0m\u001b[1;33m,\u001b[0m \u001b[0mconfig\u001b[0m\u001b[1;33m.\u001b[0m\u001b[0mmax_len\u001b[0m\u001b[1;33m,\u001b[0m \u001b[0mchannels\u001b[0m\u001b[1;33m)\u001b[0m\u001b[1;33m,\u001b[0m \u001b[0mactivation\u001b[0m\u001b[1;33m=\u001b[0m\u001b[1;34m\"sigmoid\"\u001b[0m\u001b[1;33m)\u001b[0m\u001b[1;33m)\u001b[0m\u001b[1;33m\u001b[0m\u001b[1;33m\u001b[0m\u001b[0m\n\u001b[0m\u001b[0;32m      5\u001b[0m \u001b[0mmodel\u001b[0m\u001b[1;33m.\u001b[0m\u001b[0madd\u001b[0m\u001b[1;33m(\u001b[0m\u001b[0mDense\u001b[0m\u001b[1;33m(\u001b[0m\u001b[1;36m1\u001b[0m\u001b[1;33m,\u001b[0m \u001b[0mactivation\u001b[0m\u001b[1;33m=\u001b[0m\u001b[1;34m'sigmoid'\u001b[0m\u001b[1;33m)\u001b[0m\u001b[1;33m)\u001b[0m\u001b[1;33m\u001b[0m\u001b[1;33m\u001b[0m\u001b[0m\n\u001b[0;32m      6\u001b[0m \u001b[0mmodel\u001b[0m\u001b[1;33m.\u001b[0m\u001b[0madd\u001b[0m\u001b[1;33m(\u001b[0m\u001b[0mDense\u001b[0m\u001b[1;33m(\u001b[0m\u001b[0mnum_classes\u001b[0m\u001b[1;33m,\u001b[0m \u001b[0mactivation\u001b[0m\u001b[1;33m=\u001b[0m\u001b[1;34m'softmax'\u001b[0m\u001b[1;33m)\u001b[0m\u001b[1;33m)\u001b[0m\u001b[1;33m\u001b[0m\u001b[1;33m\u001b[0m\u001b[0m\n",
      "\u001b[1;32m~\\Anaconda3\\lib\\site-packages\\keras\\engine\\sequential.py\u001b[0m in \u001b[0;36madd\u001b[1;34m(self, layer)\u001b[0m\n\u001b[0;32m    163\u001b[0m                     \u001b[1;31m# and create the node connecting the current layer\u001b[0m\u001b[1;33m\u001b[0m\u001b[1;33m\u001b[0m\u001b[1;33m\u001b[0m\u001b[0m\n\u001b[0;32m    164\u001b[0m                     \u001b[1;31m# to the input layer we just created.\u001b[0m\u001b[1;33m\u001b[0m\u001b[1;33m\u001b[0m\u001b[1;33m\u001b[0m\u001b[0m\n\u001b[1;32m--> 165\u001b[1;33m                     \u001b[0mlayer\u001b[0m\u001b[1;33m(\u001b[0m\u001b[0mx\u001b[0m\u001b[1;33m)\u001b[0m\u001b[1;33m\u001b[0m\u001b[1;33m\u001b[0m\u001b[0m\n\u001b[0m\u001b[0;32m    166\u001b[0m                     \u001b[0mset_inputs\u001b[0m \u001b[1;33m=\u001b[0m \u001b[1;32mTrue\u001b[0m\u001b[1;33m\u001b[0m\u001b[1;33m\u001b[0m\u001b[0m\n\u001b[0;32m    167\u001b[0m             \u001b[1;32melse\u001b[0m\u001b[1;33m:\u001b[0m\u001b[1;33m\u001b[0m\u001b[1;33m\u001b[0m\u001b[0m\n",
      "\u001b[1;32m~\\Anaconda3\\lib\\site-packages\\keras\\layers\\recurrent.py\u001b[0m in \u001b[0;36m__call__\u001b[1;34m(self, inputs, initial_state, constants, **kwargs)\u001b[0m\n\u001b[0;32m    530\u001b[0m \u001b[1;33m\u001b[0m\u001b[0m\n\u001b[0;32m    531\u001b[0m         \u001b[1;32mif\u001b[0m \u001b[0minitial_state\u001b[0m \u001b[1;32mis\u001b[0m \u001b[1;32mNone\u001b[0m \u001b[1;32mand\u001b[0m \u001b[0mconstants\u001b[0m \u001b[1;32mis\u001b[0m \u001b[1;32mNone\u001b[0m\u001b[1;33m:\u001b[0m\u001b[1;33m\u001b[0m\u001b[1;33m\u001b[0m\u001b[0m\n\u001b[1;32m--> 532\u001b[1;33m             \u001b[1;32mreturn\u001b[0m \u001b[0msuper\u001b[0m\u001b[1;33m(\u001b[0m\u001b[0mRNN\u001b[0m\u001b[1;33m,\u001b[0m \u001b[0mself\u001b[0m\u001b[1;33m)\u001b[0m\u001b[1;33m.\u001b[0m\u001b[0m__call__\u001b[0m\u001b[1;33m(\u001b[0m\u001b[0minputs\u001b[0m\u001b[1;33m,\u001b[0m \u001b[1;33m**\u001b[0m\u001b[0mkwargs\u001b[0m\u001b[1;33m)\u001b[0m\u001b[1;33m\u001b[0m\u001b[1;33m\u001b[0m\u001b[0m\n\u001b[0m\u001b[0;32m    533\u001b[0m \u001b[1;33m\u001b[0m\u001b[0m\n\u001b[0;32m    534\u001b[0m         \u001b[1;31m# If any of `initial_state` or `constants` are specified and are Keras\u001b[0m\u001b[1;33m\u001b[0m\u001b[1;33m\u001b[0m\u001b[1;33m\u001b[0m\u001b[0m\n",
      "\u001b[1;32m~\\Anaconda3\\lib\\site-packages\\keras\\engine\\base_layer.py\u001b[0m in \u001b[0;36m__call__\u001b[1;34m(self, inputs, **kwargs)\u001b[0m\n\u001b[0;32m    412\u001b[0m                 \u001b[1;31m# Raise exceptions in case the input is not compatible\u001b[0m\u001b[1;33m\u001b[0m\u001b[1;33m\u001b[0m\u001b[1;33m\u001b[0m\u001b[0m\n\u001b[0;32m    413\u001b[0m                 \u001b[1;31m# with the input_spec specified in the layer constructor.\u001b[0m\u001b[1;33m\u001b[0m\u001b[1;33m\u001b[0m\u001b[1;33m\u001b[0m\u001b[0m\n\u001b[1;32m--> 414\u001b[1;33m                 \u001b[0mself\u001b[0m\u001b[1;33m.\u001b[0m\u001b[0massert_input_compatibility\u001b[0m\u001b[1;33m(\u001b[0m\u001b[0minputs\u001b[0m\u001b[1;33m)\u001b[0m\u001b[1;33m\u001b[0m\u001b[1;33m\u001b[0m\u001b[0m\n\u001b[0m\u001b[0;32m    415\u001b[0m \u001b[1;33m\u001b[0m\u001b[0m\n\u001b[0;32m    416\u001b[0m                 \u001b[1;31m# Collect input shapes to build layer.\u001b[0m\u001b[1;33m\u001b[0m\u001b[1;33m\u001b[0m\u001b[1;33m\u001b[0m\u001b[0m\n",
      "\u001b[1;32m~\\Anaconda3\\lib\\site-packages\\keras\\engine\\base_layer.py\u001b[0m in \u001b[0;36massert_input_compatibility\u001b[1;34m(self, inputs)\u001b[0m\n\u001b[0;32m    309\u001b[0m                                      \u001b[0mself\u001b[0m\u001b[1;33m.\u001b[0m\u001b[0mname\u001b[0m \u001b[1;33m+\u001b[0m \u001b[1;34m': expected ndim='\u001b[0m \u001b[1;33m+\u001b[0m\u001b[1;33m\u001b[0m\u001b[1;33m\u001b[0m\u001b[0m\n\u001b[0;32m    310\u001b[0m                                      \u001b[0mstr\u001b[0m\u001b[1;33m(\u001b[0m\u001b[0mspec\u001b[0m\u001b[1;33m.\u001b[0m\u001b[0mndim\u001b[0m\u001b[1;33m)\u001b[0m \u001b[1;33m+\u001b[0m \u001b[1;34m', found ndim='\u001b[0m \u001b[1;33m+\u001b[0m\u001b[1;33m\u001b[0m\u001b[1;33m\u001b[0m\u001b[0m\n\u001b[1;32m--> 311\u001b[1;33m                                      str(K.ndim(x)))\n\u001b[0m\u001b[0;32m    312\u001b[0m             \u001b[1;32mif\u001b[0m \u001b[0mspec\u001b[0m\u001b[1;33m.\u001b[0m\u001b[0mmax_ndim\u001b[0m \u001b[1;32mis\u001b[0m \u001b[1;32mnot\u001b[0m \u001b[1;32mNone\u001b[0m\u001b[1;33m:\u001b[0m\u001b[1;33m\u001b[0m\u001b[1;33m\u001b[0m\u001b[0m\n\u001b[0;32m    313\u001b[0m                 \u001b[0mndim\u001b[0m \u001b[1;33m=\u001b[0m \u001b[0mK\u001b[0m\u001b[1;33m.\u001b[0m\u001b[0mndim\u001b[0m\u001b[1;33m(\u001b[0m\u001b[0mx\u001b[0m\u001b[1;33m)\u001b[0m\u001b[1;33m\u001b[0m\u001b[1;33m\u001b[0m\u001b[0m\n",
      "\u001b[1;31mValueError\u001b[0m: Input 0 is incompatible with layer lstm_2: expected ndim=3, found ndim=4"
     ]
    }
   ],
   "source": [
    "\n",
    "# build model\n",
    "model = Sequential()\n",
    "model.add(LSTM(16, input_shape=(config.buckets, config.max_len, channels), activation=\"sigmoid\"))\n",
    "model.add(Dense(1, activation='sigmoid'))\n",
    "model.add(Dense(num_classes, activation='softmax'))"
   ]
  },
  {
   "cell_type": "code",
   "execution_count": 20,
   "metadata": {},
   "outputs": [],
   "source": [
    "model.compile(loss=\"categorical_crossentropy\",\n",
    "                  optimizer=\"adam\",\n",
    "                  metrics=['accuracy'])"
   ]
  },
  {
   "cell_type": "code",
   "execution_count": 21,
   "metadata": {},
   "outputs": [
    {
     "name": "stderr",
     "output_type": "stream",
     "text": [
      "wandb: ERROR To use wandb on Windows, you need to run the command \"wandb run python <your_train_script>.py\"\n"
     ]
    },
    {
     "ename": "ValueError",
     "evalue": "Error when checking target: expected sequential_3_input to have 3 dimensions, but got array with shape (3112, 3)",
     "output_type": "error",
     "traceback": [
      "\u001b[1;31m---------------------------------------------------------------------------\u001b[0m",
      "\u001b[1;31mValueError\u001b[0m                                Traceback (most recent call last)",
      "\u001b[1;32m<ipython-input-21-df7f43510a1d>\u001b[0m in \u001b[0;36m<module>\u001b[1;34m\u001b[0m\n\u001b[0;32m      1\u001b[0m \u001b[0mwandb\u001b[0m\u001b[1;33m.\u001b[0m\u001b[0minit\u001b[0m\u001b[1;33m(\u001b[0m\u001b[1;33m)\u001b[0m\u001b[1;33m\u001b[0m\u001b[1;33m\u001b[0m\u001b[0m\n\u001b[1;32m----> 2\u001b[1;33m \u001b[0mmodel\u001b[0m\u001b[1;33m.\u001b[0m\u001b[0mfit\u001b[0m\u001b[1;33m(\u001b[0m\u001b[0mX_train\u001b[0m\u001b[1;33m,\u001b[0m \u001b[0my_train_hot\u001b[0m\u001b[1;33m,\u001b[0m \u001b[0mepochs\u001b[0m\u001b[1;33m=\u001b[0m\u001b[0mconfig\u001b[0m\u001b[1;33m.\u001b[0m\u001b[0mepochs\u001b[0m\u001b[1;33m,\u001b[0m \u001b[0mvalidation_data\u001b[0m\u001b[1;33m=\u001b[0m\u001b[1;33m(\u001b[0m\u001b[0mX_test\u001b[0m\u001b[1;33m,\u001b[0m \u001b[0my_test_hot\u001b[0m\u001b[1;33m)\u001b[0m\u001b[1;33m,\u001b[0m \u001b[0mcallbacks\u001b[0m\u001b[1;33m=\u001b[0m\u001b[1;33m[\u001b[0m\u001b[0mWandbCallback\u001b[0m\u001b[1;33m(\u001b[0m\u001b[0mdata_type\u001b[0m\u001b[1;33m=\u001b[0m\u001b[1;34m\"image\"\u001b[0m\u001b[1;33m,\u001b[0m \u001b[0mlabels\u001b[0m\u001b[1;33m=\u001b[0m\u001b[0mlabels\u001b[0m\u001b[1;33m)\u001b[0m\u001b[1;33m]\u001b[0m\u001b[1;33m)\u001b[0m\u001b[1;33m\u001b[0m\u001b[1;33m\u001b[0m\u001b[0m\n\u001b[0m",
      "\u001b[1;32m~\\Anaconda3\\lib\\site-packages\\keras\\engine\\training.py\u001b[0m in \u001b[0;36mfit\u001b[1;34m(self, x, y, batch_size, epochs, verbose, callbacks, validation_split, validation_data, shuffle, class_weight, sample_weight, initial_epoch, steps_per_epoch, validation_steps, **kwargs)\u001b[0m\n\u001b[0;32m    950\u001b[0m             \u001b[0msample_weight\u001b[0m\u001b[1;33m=\u001b[0m\u001b[0msample_weight\u001b[0m\u001b[1;33m,\u001b[0m\u001b[1;33m\u001b[0m\u001b[1;33m\u001b[0m\u001b[0m\n\u001b[0;32m    951\u001b[0m             \u001b[0mclass_weight\u001b[0m\u001b[1;33m=\u001b[0m\u001b[0mclass_weight\u001b[0m\u001b[1;33m,\u001b[0m\u001b[1;33m\u001b[0m\u001b[1;33m\u001b[0m\u001b[0m\n\u001b[1;32m--> 952\u001b[1;33m             batch_size=batch_size)\n\u001b[0m\u001b[0;32m    953\u001b[0m         \u001b[1;31m# Prepare validation data.\u001b[0m\u001b[1;33m\u001b[0m\u001b[1;33m\u001b[0m\u001b[1;33m\u001b[0m\u001b[0m\n\u001b[0;32m    954\u001b[0m         \u001b[0mdo_validation\u001b[0m \u001b[1;33m=\u001b[0m \u001b[1;32mFalse\u001b[0m\u001b[1;33m\u001b[0m\u001b[1;33m\u001b[0m\u001b[0m\n",
      "\u001b[1;32m~\\Anaconda3\\lib\\site-packages\\keras\\engine\\training.py\u001b[0m in \u001b[0;36m_standardize_user_data\u001b[1;34m(self, x, y, sample_weight, class_weight, check_array_lengths, batch_size)\u001b[0m\n\u001b[0;32m    787\u001b[0m                 \u001b[0mfeed_output_shapes\u001b[0m\u001b[1;33m,\u001b[0m\u001b[1;33m\u001b[0m\u001b[1;33m\u001b[0m\u001b[0m\n\u001b[0;32m    788\u001b[0m                 \u001b[0mcheck_batch_axis\u001b[0m\u001b[1;33m=\u001b[0m\u001b[1;32mFalse\u001b[0m\u001b[1;33m,\u001b[0m  \u001b[1;31m# Don't enforce the batch size.\u001b[0m\u001b[1;33m\u001b[0m\u001b[1;33m\u001b[0m\u001b[0m\n\u001b[1;32m--> 789\u001b[1;33m                 exception_prefix='target')\n\u001b[0m\u001b[0;32m    790\u001b[0m \u001b[1;33m\u001b[0m\u001b[0m\n\u001b[0;32m    791\u001b[0m             \u001b[1;31m# Generate sample-wise weight values given the `sample_weight` and\u001b[0m\u001b[1;33m\u001b[0m\u001b[1;33m\u001b[0m\u001b[1;33m\u001b[0m\u001b[0m\n",
      "\u001b[1;32m~\\Anaconda3\\lib\\site-packages\\keras\\engine\\training_utils.py\u001b[0m in \u001b[0;36mstandardize_input_data\u001b[1;34m(data, names, shapes, check_batch_axis, exception_prefix)\u001b[0m\n\u001b[0;32m    126\u001b[0m                         \u001b[1;34m': expected '\u001b[0m \u001b[1;33m+\u001b[0m \u001b[0mnames\u001b[0m\u001b[1;33m[\u001b[0m\u001b[0mi\u001b[0m\u001b[1;33m]\u001b[0m \u001b[1;33m+\u001b[0m \u001b[1;34m' to have '\u001b[0m \u001b[1;33m+\u001b[0m\u001b[1;33m\u001b[0m\u001b[1;33m\u001b[0m\u001b[0m\n\u001b[0;32m    127\u001b[0m                         \u001b[0mstr\u001b[0m\u001b[1;33m(\u001b[0m\u001b[0mlen\u001b[0m\u001b[1;33m(\u001b[0m\u001b[0mshape\u001b[0m\u001b[1;33m)\u001b[0m\u001b[1;33m)\u001b[0m \u001b[1;33m+\u001b[0m \u001b[1;34m' dimensions, but got array '\u001b[0m\u001b[1;33m\u001b[0m\u001b[1;33m\u001b[0m\u001b[0m\n\u001b[1;32m--> 128\u001b[1;33m                         'with shape ' + str(data_shape))\n\u001b[0m\u001b[0;32m    129\u001b[0m                 \u001b[1;32mif\u001b[0m \u001b[1;32mnot\u001b[0m \u001b[0mcheck_batch_axis\u001b[0m\u001b[1;33m:\u001b[0m\u001b[1;33m\u001b[0m\u001b[1;33m\u001b[0m\u001b[0m\n\u001b[0;32m    130\u001b[0m                     \u001b[0mdata_shape\u001b[0m \u001b[1;33m=\u001b[0m \u001b[0mdata_shape\u001b[0m\u001b[1;33m[\u001b[0m\u001b[1;36m1\u001b[0m\u001b[1;33m:\u001b[0m\u001b[1;33m]\u001b[0m\u001b[1;33m\u001b[0m\u001b[1;33m\u001b[0m\u001b[0m\n",
      "\u001b[1;31mValueError\u001b[0m: Error when checking target: expected sequential_3_input to have 3 dimensions, but got array with shape (3112, 3)"
     ]
    }
   ],
   "source": [
    "wandb.init()\n",
    "model.fit(X_train, y_train_hot, epochs=config.epochs, validation_data=(X_test, y_test_hot), callbacks=[WandbCallback(data_type=\"image\", labels=labels)])"
   ]
  },
  {
   "cell_type": "code",
   "execution_count": null,
   "metadata": {},
   "outputs": [],
   "source": []
  }
 ],
 "metadata": {
  "kernelspec": {
   "display_name": "Python 3",
   "language": "python",
   "name": "python3"
  },
  "language_info": {
   "codemirror_mode": {
    "name": "ipython",
    "version": 3
   },
   "file_extension": ".py",
   "mimetype": "text/x-python",
   "name": "python",
   "nbconvert_exporter": "python",
   "pygments_lexer": "ipython3",
   "version": "3.7.3"
  }
 },
 "nbformat": 4,
 "nbformat_minor": 2
}
